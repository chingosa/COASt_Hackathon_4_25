{
 "cells": [
  {
   "cell_type": "code",
   "execution_count": 6,
   "id": "99074677-b7fc-4bbe-8a80-99fea712a44e",
   "metadata": {},
   "outputs": [
    {
     "data": {
      "text/plain": [
       "<module 'Funcs' from '/home/users/chingosa/COASt_Hackathon_4_25/Funcs.py'>"
      ]
     },
     "execution_count": 6,
     "metadata": {},
     "output_type": "execute_result"
    }
   ],
   "source": [
    "import sys\n",
    "sys.path.append('/home/users/chingosa/VolcanoesHackathon/')  ### Change this\n",
    "import Funcs as func\n",
    "import numpy as np\n",
    "import xarray as xr\n",
    "import pandas as pd\n",
    "import os\n",
    "from pyesgf.search import SearchConnection\n",
    "from concurrent.futures import ThreadPoolExecutor\n",
    "\n",
    "conn = SearchConnection('https://esgf-node.llnl.gov/esg-search', distrib=True) \n",
    "os.environ[\"ESGF_PYCLIENT_NO_FACETS_STAR_WARNING\"] = \"on\"\n",
    "\n",
    "from importlib import reload\n",
    "reload(func)"
   ]
  },
  {
   "cell_type": "markdown",
   "id": "6216dde0-c0ef-495a-b7f3-cae06dee97a3",
   "metadata": {},
   "source": [
    "### Bulk model access for Coast Hackathon\n",
    "#### Requirements:\n",
    "- Requires funcs.py file\n",
    "- Requires FPs subDir for storing file path CSVs\n",
    "- Requires TempData subDir for storing netCDFs\n",
    "---\n",
    "\n",
    "#### Finding Files:\n",
    "Allows you to search for files from a single model w/ multiple variables (other stuff probably won't need to be tweaked)\n"
   ]
  },
  {
   "cell_type": "code",
   "execution_count": 2,
   "id": "861dcf5c-8e1f-44b0-9afc-793bbd25933e",
   "metadata": {},
   "outputs": [],
   "source": [
    "## Setting Up the search\n",
    "## You could Imagine Looping through this tho\n",
    "model = 'GFDL-ESM4'\n",
    "variables = ['tas','rsdt']\n",
    "tStep = 'mon'\n",
    "period = 'historical'"
   ]
  },
  {
   "cell_type": "code",
   "execution_count": 3,
   "id": "4dc6bfb3-3d1a-4348-96ef-080c4af5e594",
   "metadata": {
    "scrolled": true
   },
   "outputs": [
    {
     "name": "stdout",
     "output_type": "stream",
     "text": [
      "Found 32 file paths for 8 file paths for GFDL-ESM4 with vars: ['tas', 'rsdt']\n"
     ]
    },
    {
     "data": {
      "text/html": [
       "<div>\n",
       "<style scoped>\n",
       "    .dataframe tbody tr th:only-of-type {\n",
       "        vertical-align: middle;\n",
       "    }\n",
       "\n",
       "    .dataframe tbody tr th {\n",
       "        vertical-align: top;\n",
       "    }\n",
       "\n",
       "    .dataframe thead th {\n",
       "        text-align: right;\n",
       "    }\n",
       "</style>\n",
       "<table border=\"1\" class=\"dataframe\">\n",
       "  <thead>\n",
       "    <tr style=\"text-align: right;\">\n",
       "      <th></th>\n",
       "      <th>model</th>\n",
       "      <th>filename</th>\n",
       "      <th>download_url</th>\n",
       "      <th>opendap_url</th>\n",
       "      <th>Varient</th>\n",
       "      <th>period</th>\n",
       "      <th>Var</th>\n",
       "      <th>grid</th>\n",
       "      <th>timeStep</th>\n",
       "      <th>start</th>\n",
       "      <th>stop</th>\n",
       "      <th>r</th>\n",
       "      <th>i</th>\n",
       "      <th>p</th>\n",
       "      <th>f</th>\n",
       "    </tr>\n",
       "  </thead>\n",
       "  <tbody>\n",
       "    <tr>\n",
       "      <th>0</th>\n",
       "      <td>GFDL-ESM4</td>\n",
       "      <td>rsdt_Amon_GFDL-ESM4_historical_r1i1p1f1_gr1_18...</td>\n",
       "      <td>http://esgf-data1.llnl.gov/thredds/fileServer/...</td>\n",
       "      <td>http://esgf-data1.llnl.gov/thredds/dodsC/css03...</td>\n",
       "      <td>r1i1p1f1</td>\n",
       "      <td>historical</td>\n",
       "      <td>rsdt</td>\n",
       "      <td>gr1</td>\n",
       "      <td>mon</td>\n",
       "      <td>1850</td>\n",
       "      <td>1949</td>\n",
       "      <td>1</td>\n",
       "      <td>1</td>\n",
       "      <td>1</td>\n",
       "      <td>1</td>\n",
       "    </tr>\n",
       "    <tr>\n",
       "      <th>1</th>\n",
       "      <td>GFDL-ESM4</td>\n",
       "      <td>rsdt_Amon_GFDL-ESM4_historical_r1i1p1f1_gr1_19...</td>\n",
       "      <td>http://esgf-data1.llnl.gov/thredds/fileServer/...</td>\n",
       "      <td>http://esgf-data1.llnl.gov/thredds/dodsC/css03...</td>\n",
       "      <td>r1i1p1f1</td>\n",
       "      <td>historical</td>\n",
       "      <td>rsdt</td>\n",
       "      <td>gr1</td>\n",
       "      <td>mon</td>\n",
       "      <td>1950</td>\n",
       "      <td>2014</td>\n",
       "      <td>1</td>\n",
       "      <td>1</td>\n",
       "      <td>1</td>\n",
       "      <td>1</td>\n",
       "    </tr>\n",
       "    <tr>\n",
       "      <th>2</th>\n",
       "      <td>GFDL-ESM4</td>\n",
       "      <td>tas_Amon_GFDL-ESM4_historical_r1i1p1f1_gr1_185...</td>\n",
       "      <td>http://aims3.llnl.gov/thredds/fileServer/css03...</td>\n",
       "      <td>http://aims3.llnl.gov/thredds/dodsC/css03_data...</td>\n",
       "      <td>r1i1p1f1</td>\n",
       "      <td>historical</td>\n",
       "      <td>tas</td>\n",
       "      <td>gr1</td>\n",
       "      <td>mon</td>\n",
       "      <td>1850</td>\n",
       "      <td>1949</td>\n",
       "      <td>1</td>\n",
       "      <td>1</td>\n",
       "      <td>1</td>\n",
       "      <td>1</td>\n",
       "    </tr>\n",
       "    <tr>\n",
       "      <th>3</th>\n",
       "      <td>GFDL-ESM4</td>\n",
       "      <td>tas_Amon_GFDL-ESM4_historical_r1i1p1f1_gr1_195...</td>\n",
       "      <td>http://aims3.llnl.gov/thredds/fileServer/css03...</td>\n",
       "      <td>http://aims3.llnl.gov/thredds/dodsC/css03_data...</td>\n",
       "      <td>r1i1p1f1</td>\n",
       "      <td>historical</td>\n",
       "      <td>tas</td>\n",
       "      <td>gr1</td>\n",
       "      <td>mon</td>\n",
       "      <td>1950</td>\n",
       "      <td>2014</td>\n",
       "      <td>1</td>\n",
       "      <td>1</td>\n",
       "      <td>1</td>\n",
       "      <td>1</td>\n",
       "    </tr>\n",
       "    <tr>\n",
       "      <th>4</th>\n",
       "      <td>GFDL-ESM4</td>\n",
       "      <td>rsdt_Amon_GFDL-ESM4_historical_r1i1p1f1_gr1_18...</td>\n",
       "      <td>http://esgf-data04.diasjp.net/thredds/fileServ...</td>\n",
       "      <td>http://esgf-data04.diasjp.net/thredds/dodsC/es...</td>\n",
       "      <td>r1i1p1f1</td>\n",
       "      <td>historical</td>\n",
       "      <td>rsdt</td>\n",
       "      <td>gr1</td>\n",
       "      <td>mon</td>\n",
       "      <td>1850</td>\n",
       "      <td>1949</td>\n",
       "      <td>1</td>\n",
       "      <td>1</td>\n",
       "      <td>1</td>\n",
       "      <td>1</td>\n",
       "    </tr>\n",
       "  </tbody>\n",
       "</table>\n",
       "</div>"
      ],
      "text/plain": [
       "       model                                           filename  \\\n",
       "0  GFDL-ESM4  rsdt_Amon_GFDL-ESM4_historical_r1i1p1f1_gr1_18...   \n",
       "1  GFDL-ESM4  rsdt_Amon_GFDL-ESM4_historical_r1i1p1f1_gr1_19...   \n",
       "2  GFDL-ESM4  tas_Amon_GFDL-ESM4_historical_r1i1p1f1_gr1_185...   \n",
       "3  GFDL-ESM4  tas_Amon_GFDL-ESM4_historical_r1i1p1f1_gr1_195...   \n",
       "4  GFDL-ESM4  rsdt_Amon_GFDL-ESM4_historical_r1i1p1f1_gr1_18...   \n",
       "\n",
       "                                        download_url  \\\n",
       "0  http://esgf-data1.llnl.gov/thredds/fileServer/...   \n",
       "1  http://esgf-data1.llnl.gov/thredds/fileServer/...   \n",
       "2  http://aims3.llnl.gov/thredds/fileServer/css03...   \n",
       "3  http://aims3.llnl.gov/thredds/fileServer/css03...   \n",
       "4  http://esgf-data04.diasjp.net/thredds/fileServ...   \n",
       "\n",
       "                                         opendap_url   Varient      period  \\\n",
       "0  http://esgf-data1.llnl.gov/thredds/dodsC/css03...  r1i1p1f1  historical   \n",
       "1  http://esgf-data1.llnl.gov/thredds/dodsC/css03...  r1i1p1f1  historical   \n",
       "2  http://aims3.llnl.gov/thredds/dodsC/css03_data...  r1i1p1f1  historical   \n",
       "3  http://aims3.llnl.gov/thredds/dodsC/css03_data...  r1i1p1f1  historical   \n",
       "4  http://esgf-data04.diasjp.net/thredds/dodsC/es...  r1i1p1f1  historical   \n",
       "\n",
       "    Var grid timeStep  start  stop  r  i  p  f  \n",
       "0  rsdt  gr1      mon   1850  1949  1  1  1  1  \n",
       "1  rsdt  gr1      mon   1950  2014  1  1  1  1  \n",
       "2   tas  gr1      mon   1850  1949  1  1  1  1  \n",
       "3   tas  gr1      mon   1950  2014  1  1  1  1  \n",
       "4  rsdt  gr1      mon   1850  1949  1  1  1  1  "
      ]
     },
     "execution_count": 3,
     "metadata": {},
     "output_type": "execute_result"
    }
   ],
   "source": [
    "## Preform the search (~75 Seconds) - Worth Saving Results\n",
    "df = func.searchFPs(conn, model, variables, tStep=tStep, period=period)\n",
    "df = func.addMetaData(df)\n",
    "\n",
    "print(f'Found {len(df)} file paths for {len(df.filename.unique())} file paths for {model} with vars: {variables}')\n",
    "\n",
    "df_VaientPicked = func.pickVarientandFilter(df)\n",
    "\n",
    "\n",
    "## Varient filted File Paths\n",
    "df_VaientPicked.to_csv(f'FPs/FPs_{model}.csv', index = None)\n",
    "df_VaientPicked.head()"
   ]
  },
  {
   "cell_type": "markdown",
   "id": "8699925b-9a95-491c-8885-b11230fd5c0c",
   "metadata": {},
   "source": [
    "---\n",
    "#### Downloading / PreProcessing Files:"
   ]
  },
  {
   "cell_type": "code",
   "execution_count": 7,
   "id": "9ac605b3-3182-4916-a546-a68c735b8c97",
   "metadata": {},
   "outputs": [
    {
     "name": "stdout",
     "output_type": "stream",
     "text": [
      "Downloading data for TempData/GFDL-ESM4_historical_rsdt_processed.ncDownloading data for TempData/GFDL-ESM4_historical_tas_processed.nc\n",
      "\n",
      "Writing to TempData/GFDL-ESM4_historical_tas_processed.nc\n",
      "[############                            ] | 31% Completed | 3.70 smsWriting to TempData/GFDL-ESM4_historical_rsdt_processed.nc\n",
      "[########################################] | 100% Completed | 39.50 s\n",
      "[########################################] | 100% Completed | 60.61 s\n"
     ]
    }
   ],
   "source": [
    "# models = ['INM-CM5-0','NorESM2-MM', 'HadGEM3-GC31-LL', 'INM-CM4-8', 'UKESM1-0-LL']\n",
    "models = ['GFDL-ESM4']\n",
    "df = pd.concat([pd.read_csv(f'FPs/FPs_{model}.csv', index_col=None) for model in models])\n",
    "\n",
    "func.preprocess_and_download(models, df)\n"
   ]
  },
  {
   "cell_type": "markdown",
   "id": "77f10138-21a5-42d5-a9a3-4dc4f67e1e71",
   "metadata": {},
   "source": [
    "---\n",
    "#### Checking Processed File Size"
   ]
  },
  {
   "cell_type": "code",
   "execution_count": 8,
   "id": "37488355-1a2e-4e5c-8ed2-e3f2b30194a1",
   "metadata": {},
   "outputs": [
    {
     "name": "stdout",
     "output_type": "stream",
     "text": [
      "GFDL-ESM4 tas is: 240.8MiB\n"
     ]
    }
   ],
   "source": [
    "def sizeof_fmt(num, suffix=\"B\"):\n",
    "    for unit in (\"\", \"Ki\", \"Mi\", \"Gi\", \"Ti\", \"Pi\", \"Ei\", \"Zi\"):\n",
    "        if abs(num) < 1024.0:\n",
    "            return f\"{num:3.1f}{unit}{suffix}\"\n",
    "        num /= 1024.0\n",
    "    return f\"{num:.1f}Yi{suffix}\"\n",
    "size = sizeof_fmt(os.path.getsize(f'TempData/{model}_historical_tas_processed.nc'))\n",
    "print(f'{model} tas is: {size}')\n"
   ]
  },
  {
   "cell_type": "code",
   "execution_count": null,
   "id": "0f6f9816-5dfe-4792-8c69-eb906b5fa932",
   "metadata": {},
   "outputs": [],
   "source": []
  },
  {
   "cell_type": "code",
   "execution_count": null,
   "id": "4fafd14a-e530-4830-9588-69450ad09667",
   "metadata": {
    "scrolled": true
   },
   "outputs": [],
   "source": []
  },
  {
   "cell_type": "code",
   "execution_count": null,
   "id": "5c91e808-1b63-425f-a6b2-ff673a815132",
   "metadata": {},
   "outputs": [],
   "source": []
  }
 ],
 "metadata": {
  "kernelspec": {
   "display_name": "Python 3 + Jaspy",
   "language": "python",
   "name": "jaspy"
  },
  "language_info": {
   "codemirror_mode": {
    "name": "ipython",
    "version": 3
   },
   "file_extension": ".py",
   "mimetype": "text/x-python",
   "name": "python",
   "nbconvert_exporter": "python",
   "pygments_lexer": "ipython3",
   "version": "3.11.9"
  }
 },
 "nbformat": 4,
 "nbformat_minor": 5
}
